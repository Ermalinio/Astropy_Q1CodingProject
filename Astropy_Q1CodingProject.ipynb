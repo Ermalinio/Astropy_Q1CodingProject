{
 "cells": [
  {
   "cell_type": "markdown",
   "metadata": {},
   "source": [
    "<h1>Astrophysics Elective Q1 Coding Project</h1>"
   ]
  },
  {
   "cell_type": "markdown",
   "metadata": {},
   "source": [
    "**Gr01 - Alinio, Ethan Rafael |**\n",
    "**Gr23 - Sanguyo, Joaquin Lorenzo |**\n",
    "**Gr24 - Santos, Chloe Elisha**"
   ]
  },
  {
   "cell_type": "markdown",
   "metadata": {},
   "source": [
    "<h3>I. Three-dimensional Dictionary</h3>"
   ]
  },
  {
   "cell_type": "markdown",
   "metadata": {},
   "source": [
    "A. Create a THREE-dimensional dictionary with Safe For Work (SFW) topics. Ensure that there are at least two elements in each dimension."
   ]
  },
  {
   "cell_type": "code",
   "execution_count": 1,
   "metadata": {},
   "outputs": [],
   "source": [
    "# dictionary of some AYP teachers\n",
    "teachers = {\n",
    "    'STEM': {\n",
    "        'Physics': {\n",
    "            'Grade 9': 'Sir MC',\n",
    "            'Grade 10': 'Sir Neil'\n",
    "        },\n",
    "        'Chemistry': {\n",
    "            'Grade 9': 'Maam Xandra',\n",
    "            'Grade 10': 'Maam Pie'\n",
    "        },\n",
    "        'Biology': {\n",
    "            'Grade 9': 'Maam Gunda',\n",
    "            'Grade 10': 'Maam Cheng'\n",
    "        }\n",
    "    },\n",
    "    'HUMSS': {\n",
    "        'English': {\n",
    "            'Grade 9': 'Sir Jez',\n",
    "            'Grade 10': 'Sir De Castro'\n",
    "        },\n",
    "        'Filipino': {\n",
    "            'Grade 9': 'Maam Aguila',\n",
    "            'Grade 10': 'Sir Orque'\n",
    "        },\n",
    "        'Social Science': {\n",
    "            'Grade 9': 'Sir Arnie',\n",
    "            'Grade 10': 'Maam Sarenas'\n",
    "        }\n",
    "    }\n",
    "}"
   ]
  },
  {
   "cell_type": "code",
   "execution_count": 3,
   "metadata": {},
   "outputs": [
    {
     "name": "stdout",
     "output_type": "stream",
     "text": [
      "Sir MC\n"
     ]
    }
   ],
   "source": [
    "# test AYP teachers dictionary\n",
    "print(teachers['STEM']['Physics']['Grade 9'])"
   ]
  },
  {
   "cell_type": "markdown",
   "metadata": {},
   "source": [
    "B. Using a for loop, add another 1D information (key-value pair) to all first-dimensional elements."
   ]
  },
  {
   "cell_type": "code",
   "execution_count": 7,
   "metadata": {},
   "outputs": [],
   "source": [
    "# add another 1D info to first-dimensional elements\n",
    "for branch in teachers:\n",
    "    teachers['STEM']['Mathematics'] = {'Grade 9' : 'Sir Karlo',\n",
    "                                       'Grade 10': 'Maam Kiel'}\n",
    "    teachers['HUMSS']['Values Education'] = {'Grade 9': 'Maam Pacia',\n",
    "                                             'Grade 10': 'Maam Briones'}"
   ]
  },
  {
   "cell_type": "code",
   "execution_count": 8,
   "metadata": {},
   "outputs": [
    {
     "name": "stdout",
     "output_type": "stream",
     "text": [
      "Maam Kiel\n"
     ]
    }
   ],
   "source": [
    "# test added infor to AYP teachers dictionary\n",
    "print(teachers['STEM']['Mathematics']['Grade 10'])"
   ]
  },
  {
   "cell_type": "markdown",
   "metadata": {},
   "source": [
    "<h3>II. Stellar Parameters</h3>"
   ]
  },
  {
   "cell_type": "code",
   "execution_count": 6,
   "metadata": {},
   "outputs": [
    {
     "name": "stdout",
     "output_type": "stream",
     "text": [
      "Luminosities of stars (relative to solar luminosity): \n",
      "\tBernard's Star       1.272e+24 W\n",
      "\tSirius A             9.856e+27 W\n",
      "\tSirius B             9.067e+24 W\n",
      "\tArcturus             7.536e+28 W\n",
      "\tBetelguese           4.848e+31 W\n"
     ]
    }
   ],
   "source": [
    "from math import pi\n",
    "from astropy.constants import R_sun, L_sun, sigma_sb, M_sun\n",
    "import astropy.units as unit\n",
    "\n",
    "# function to assign stellar parameters\n",
    "def stellar_parameters(*args):\n",
    "    return {    \"R\"     : args[0].to(unit.m),\n",
    "                \"Teff\"  : args[1].to(unit.K)    }\n",
    "\n",
    "# function that calculates the luminosity for a given radius and effective temperature\n",
    "def luminosity(R, Teff):\n",
    "    A = 4*pi*R**2 # local variable for surface area\n",
    "    return sigma_sb * A * Teff**4\n",
    "\n",
    "# dictionary of some stars\n",
    "stars = {\n",
    "    'Bernard\\'s Star': stellar_parameters(0.196*R_sun, 3.13e3*unit.K),\n",
    "    'Sirius A': stellar_parameters(1.711*R_sun, 9.94e3*unit.K),\n",
    "    'Sirius B': stellar_parameters(5.8e3*unit.km, 2.48e4*unit.K),\n",
    "    'Arcturus' : stellar_parameters(25.4*R_sun, 4.29e3*unit.K),\n",
    "    'Betelguese': stellar_parameters(6.4e8*unit.km, 3.59e3*unit.K)\n",
    "}\n",
    "\n",
    "# code that adds calculated luminosities per star to star dictionary\n",
    "print(\"Luminosities of stars (relative to solar luminosity): \")\n",
    "for name in stars:\n",
    "    stars[name]['L'] = luminosity(stars[name]['R'], stars[name]['Teff'])\n",
    "    print(\"\\t{:20s} {:.3e}\".format(name, stars[name]['L']))"
   ]
  },
  {
   "cell_type": "markdown",
   "metadata": {},
   "source": [
    "A. Extend the function stellar_parameters() or the code to add stellar masses to the dictionary stars."
   ]
  },
  {
   "cell_type": "markdown",
   "metadata": {},
   "source": [
    "*For the stars discussed, the masses in units of the solar mass are 0.144, 2.06, 1.02, 1.1, and 12 (from Bernard’s Star to Betelgeuse).*"
   ]
  },
  {
   "cell_type": "code",
   "execution_count": 33,
   "metadata": {},
   "outputs": [
    {
     "name": "stdout",
     "output_type": "stream",
     "text": [
      "Stellar mass of stars in solar mass: \n",
      "\tBernard's Star       2.863e+29 kg\n",
      "\tSirius A             4.096e+30 kg\n",
      "\tSirius B             2.028e+30 kg\n",
      "\tArcturus             2.187e+30 kg\n",
      "\tBetelguese           2.386e+31 kg\n",
      "\tAldebaran            2.386e+30 kg\n",
      "\tBellatrix            1.710e+31 kg\n"
     ]
    }
   ],
   "source": [
    "# add stellar masses to dictionary of stars\n",
    "print(\"Stellar mass of stars in solar mass: \")\n",
    "for name in stars:\n",
    "    stars['Bernard\\'s Star']['M'] = 0.144*M_sun\n",
    "    stars['Sirius A']['M'] = 2.06*M_sun\n",
    "    stars['Sirius B']['M'] = 1.02*M_sun\n",
    "    stars['Arcturus']['M'] = 1.1*M_sun\n",
    "    stars['Betelguese']['M'] = 12*M_sun\n",
    "    print(\"\\t{:20s} {:.3e}\".format(name, stars[name]['M']))"
   ]
  },
  {
   "cell_type": "markdown",
   "metadata": {},
   "source": [
    "B. Write a Python function that calculates the radius for given luminosity and effective temperature."
   ]
  },
  {
   "cell_type": "code",
   "execution_count": 20,
   "metadata": {},
   "outputs": [],
   "source": [
    "# function that calculates the radius for a given luminosity and effective temperature\n",
    "def radius(L, Teff):\n",
    "    f = sigma_sb * Teff**4 # local variable for flux\n",
    "    return (L / (4 * pi * f))**(1/2)"
   ]
  },
  {
   "cell_type": "code",
   "execution_count": 23,
   "metadata": {},
   "outputs": [
    {
     "name": "stdout",
     "output_type": "stream",
     "text": [
      "17670780000.0 m\n"
     ]
    }
   ],
   "source": [
    "# test radius function\n",
    "print(radius(stars['Arcturus']['L'], stars['Arcturus']['Teff']))"
   ]
  },
  {
   "cell_type": "markdown",
   "metadata": {},
   "source": [
    "C. Add Aldebaran and Bellatrix, with their calculated radius, to the stars dictionary."
   ]
  },
  {
   "cell_type": "code",
   "execution_count": 34,
   "metadata": {},
   "outputs": [
    {
     "name": "stdout",
     "output_type": "stream",
     "text": [
      "\tBernard's Star       1.364e+08 m\n",
      "\tSirius A             1.190e+09 m\n",
      "\tSirius B             5.800e+06 m\n",
      "\tArcturus             1.767e+10 m\n",
      "\tBetelguese           6.400e+11 m\n",
      "\tAldebaran            3.196e+10 m\n",
      "\tBellatrix            1.453e+09 m\n"
     ]
    }
   ],
   "source": [
    "# use function to calculate the radius of Aldebaran and Bellatrix\n",
    "# and add stellar parameters (and radius) to dictionary\n",
    "stars['Aldebaran'] = {'L': 4.4e2*L_sun,\n",
    "                      'Teff': 3.9e3*unit.K,\n",
    "                      'M': 1.2*M_sun}\n",
    "stars['Bellatrix'] = {'L': 9.21e2*L_sun,\n",
    "                      'Teff': 2.2e4*unit.K,\n",
    "                      'M': 8.6*M_sun}\n",
    "for name in stars:\n",
    "    stars[name]['R'] = radius(stars[name]['L'], stars[name]['Teff'])\n",
    "    print(\"\\t{:20s} {:.3e}\".format(name, stars[name]['R']))\n"
   ]
  },
  {
   "cell_type": "markdown",
   "metadata": {},
   "source": [
    "D. Print a table of stellar parameters."
   ]
  },
  {
   "cell_type": "markdown",
   "metadata": {},
   "source": [
    "*M, R, Teff, and L of the 7 stars, respectively, use units [kg], [m], [K], and [W].*"
   ]
  },
  {
   "cell_type": "code",
   "execution_count": 42,
   "metadata": {},
   "outputs": [
    {
     "name": "stdout",
     "output_type": "stream",
     "text": [
      "Stellar parameters of stars: \tMass \t\tRadius \t\tT_eff \t\tLuminosity\n",
      "\tBernard's Star       \t2.863e+29 kg \t1.364e+08 m \t3.130e+03 K \t1.272e+24 W \n",
      "\tSirius A             \t4.096e+30 kg \t1.190e+09 m \t9.940e+03 K \t9.856e+27 W \n",
      "\tSirius B             \t2.028e+30 kg \t5.800e+06 m \t2.480e+04 K \t9.067e+24 W \n",
      "\tArcturus             \t2.187e+30 kg \t1.767e+10 m \t4.290e+03 K \t7.536e+28 W \n",
      "\tBetelguese           \t2.386e+31 kg \t6.400e+11 m \t3.590e+03 K \t4.848e+31 W \n",
      "\tAldebaran            \t2.386e+30 kg \t3.196e+10 m \t3.900e+03 K \t1.684e+29 W \n",
      "\tBellatrix            \t1.710e+31 kg \t1.453e+09 m \t2.200e+04 K \t3.526e+29 W \n"
     ]
    }
   ],
   "source": [
    "# print a table of stellar parameters\n",
    "print(\"Stellar parameters of stars: \\tMass \\t\\tRadius \\t\\tT_eff \\t\\tLuminosity\")\n",
    "for name in stars:\n",
    "    print(\"\\t{:20s} \\t{:.3e} \\t{:.3e} \\t{:.3e} \\t{:.3e} \".format(name, stars[name]['M'],\n",
    "                                                         stars[name]['R'],\n",
    "                                                         stars[name]['Teff'],\n",
    "                                                         stars[name]['L']))"
   ]
  }
 ],
 "metadata": {
  "kernelspec": {
   "display_name": "Python 3",
   "language": "python",
   "name": "python3"
  },
  "language_info": {
   "codemirror_mode": {
    "name": "ipython",
    "version": 3
   },
   "file_extension": ".py",
   "mimetype": "text/x-python",
   "name": "python",
   "nbconvert_exporter": "python",
   "pygments_lexer": "ipython3",
   "version": "3.9.6"
  }
 },
 "nbformat": 4,
 "nbformat_minor": 2
}
